{
 "cells": [
  {
   "cell_type": "markdown",
   "metadata": {},
   "source": [
    "2019 Jun 19<br>\n",
    "Based on some conversations at the KITP summer workshop, I'm exploring how robust our variability detection is against stellar variability."
   ]
  },
  {
   "cell_type": "code",
   "execution_count": 3,
   "metadata": {},
   "outputs": [],
   "source": [
    "%matplotlib inline\n",
    "import numpy as np\n",
    "import matplotlib.pyplot as plt\n",
    "\n",
    "# Official Boise State colors - https://brandstandards.boisestate.edu/colors/\n",
    "BoiseState_blue = '#0033A0'\n",
    "BoiseState_orange = '#D64309'\n",
    "\n",
    "aspect_ratio = 16./9\n",
    "\n",
    "# 2018 Dec 21 \n",
    "# dill.load_session(\"Analysis_of_Kepler76b_2018Dec7.db\")\n",
    "\n",
    "# cached = ipycache.load_vars('Analysis_of_Kepler76b_2018Dec14.pkl', ['new_BEER_out'])\n",
    "# new_BEER_out = cached['new_BEER_out']\n",
    "\n",
    "from numpy.random import normal, random\n",
    "from scipy.odr import *"
   ]
  },
  {
   "cell_type": "code",
   "execution_count": 36,
   "metadata": {},
   "outputs": [
    {
     "name": "stdout",
     "output_type": "stream",
     "text": [
      "(0.38007933024056895, 0.5923842883841051)\n",
      "Beta: [0.42421127 0.55074197]\n",
      "Beta Std Error: [0.06772403 0.03916221]\n",
      "Beta Covariance: [[ 0.00448429 -0.00221989]\n",
      " [-0.00221989  0.00149949]]\n",
      "Residual Variance: 1.02280238563\n",
      "Inverse Condition #: 0.230656118834\n",
      "Reason(s) for Halting:\n",
      "  Sum of squares convergence\n"
     ]
    },
    {
     "data": {
      "image/png": "[encoded data removed]",
      "text/plain": [
       "<matplotlib.figure.Figure at 0x115b0c110>"
      ]
     },
     "metadata": {},
     "output_type": "display_data"
    }
   ],
   "source": [
    "# 2019 Jun 19 - Let's first check whether you can produce a positive slope for uncorrelated variables.\n",
    "\n",
    "# Define a function to fit the data with.\n",
    "def lin_func(p, x):\n",
    "    m, c = p\n",
    "    return m*x + c\n",
    "\n",
    "# Create a model for fitting.\n",
    "lin_model = Model(lin_func)\n",
    "\n",
    "slope, intercept = random(2)\n",
    "noise_x, noise_y = 0.25*random(2)\n",
    "\n",
    "num_points = 100\n",
    "\n",
    "x = np.linspace(0, 1, num_points)\n",
    "y = np.polyval([slope, intercept], x)\n",
    "\n",
    "noisy_x = x + noise_x*normal(size=len(x))\n",
    "noisy_y = y + noise_y*normal(size=len(y))\n",
    "\n",
    "plt.scatter(noisy_x, noisy_y)\n",
    "plt.plot(x, y)\n",
    "\n",
    "# Create a RealData object using our initiated data from above.\n",
    "data = RealData(noisy_x, noisy_y, sx=noise_x, sy=noise_y)\n",
    "\n",
    "# Set up ODR with the model and data.\n",
    "odr = ODR(data, lin_model, beta0=[0., 0.])\n",
    "\n",
    "# Run the regression.\n",
    "out = odr.run()\n",
    "\n",
    "# Use the in-built pprint method to give us results.\n",
    "print(slope, intercept)\n",
    "out.pprint()"
   ]
  },
  {
   "cell_type": "code",
   "execution_count": 123,
   "metadata": {},
   "outputs": [
    {
     "name": "stdout",
     "output_type": "stream",
     "text": [
      "(0.02046983457301403, 0.020172659410343463)\n",
      "(0.16252313234156504, 0.1573999831985831)\n",
      "0.34340699648540335\n"
     ]
    },
    {
     "data": {
      "image/png": "[encoded data removed]",
      "text/plain": [
       "<matplotlib.figure.Figure at 0x119a11f50>"
      ]
     },
     "metadata": {},
     "output_type": "display_data"
    }
   ],
   "source": [
    "# 2019 Jun 19 - Let's first check whether you can produce a positive slope for uncorrelated variables.\n",
    "\n",
    "# Define a function to fit the data with.\n",
    "def lin_func(p, x):\n",
    "    m, c = p\n",
    "    return m*x + c\n",
    "\n",
    "# Create a model for fitting.\n",
    "lin_model = Model(lin_func)\n",
    "\n",
    "slope, intercept = random(2)\n",
    "noise_x, noise_y = 0.25*random(2)\n",
    "\n",
    "num_points = 100\n",
    "\n",
    "noisy_x = noise_x*normal(size=len(x))\n",
    "noisy_y = noise_y*normal(size=len(y))\n",
    "\n",
    "plt.scatter(noisy_x, noisy_y)\n",
    "\n",
    "# Create a RealData object using our initiated data from above.\n",
    "data = RealData(noisy_x, noisy_y, sx=np.sqrt(noise_x), sy=np.sqrt(noise_y))\n",
    "\n",
    "# Set up ODR with the model and data.\n",
    "odr = ODR(data, lin_model, beta0=[0., 0.])\n",
    "\n",
    "# Run the regression.\n",
    "out = odr.run()\n",
    "\n",
    "# Use the in-built pprint method to give us results.\n",
    "# out.pprint()\n",
    "print(np.abs(out.beta[0])/out.sd_beta[0])"
   ]
  },
  {
   "cell_type": "code",
   "execution_count": null,
   "metadata": {
    "collapsed": true
   },
   "outputs": [],
   "source": []
  }
 ],
 "metadata": {
  "kernelspec": {
   "display_name": "Python 2",
   "language": "python",
   "name": "python2"
  },
  "language_info": {
   "codemirror_mode": {
    "name": "ipython",
    "version": 2
   },
   "file_extension": ".py",
   "mimetype": "text/x-python",
   "name": "python",
   "nbconvert_exporter": "python",
   "pygments_lexer": "ipython2",
   "version": "2.7.13"
  }
 },
 "nbformat": 4,
 "nbformat_minor": 2
}
